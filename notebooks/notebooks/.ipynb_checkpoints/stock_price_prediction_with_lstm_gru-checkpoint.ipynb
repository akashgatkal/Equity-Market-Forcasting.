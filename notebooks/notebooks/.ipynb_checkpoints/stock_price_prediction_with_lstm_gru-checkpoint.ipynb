{
 "cells": [
  {
   "cell_type": "code",
   "execution_count": null,
   "metadata": {
    "execution": {
     "iopub.execute_input": "2024-04-19T22:24:37.249345Z",
     "iopub.status.busy": "2024-04-19T22:24:37.248473Z",
     "iopub.status.idle": "2024-04-19T22:24:51.792937Z",
     "shell.execute_reply": "2024-04-19T22:24:51.791353Z",
     "shell.execute_reply.started": "2024-04-19T22:24:37.249307Z"
    },
    "executionInfo": {
     "elapsed": 29788,
     "status": "ok",
     "timestamp": 1711992212160,
     "user": {
      "displayName": "Tuấn CR7",
      "userId": "15772439786063649064"
     },
     "user_tz": -420
    },
    "id": "uG3e-rJGoibI",
    "outputId": "950a89b3-5081-4d9c-e42e-1a18805cec0c"
   },
   "outputs": [],
   "source": []
  },
  {
   "cell_type": "code",
   "execution_count": null,
   "metadata": {},
   "outputs": [],
   "source": []
  },
  {
   "cell_type": "markdown",
   "metadata": {
    "id": "bmfh05e-eczl"
   },
   "source": [
    "# Predicting Stock Prices with LSTM and GRU"
   ]
  },
  {
   "cell_type": "markdown",
   "metadata": {
    "id": "u3KiIL33OcpY"
   },
   "source": [
    "# 1. Use with LSTM"
   ]
  },
  {
   "cell_type": "markdown",
   "metadata": {
    "id": "M5z9_ztqqG7H"
   },
   "source": [
    "## Import library"
   ]
  },
  {
   "cell_type": "code",
   "execution_count": 1,
   "metadata": {
    "executionInfo": {
     "elapsed": 644,
     "status": "ok",
     "timestamp": 1711992234582,
     "user": {
      "displayName": "Tuấn CR7",
      "userId": "15772439786063649064"
     },
     "user_tz": -420
    },
    "id": "ArNrK5UhqM_-"
   },
   "outputs": [],
   "source": [
    "import pandas as pd\n",
    "import numpy as np\n",
    "import matplotlib.pyplot as plt\n"
   ]
  },
  {
   "cell_type": "markdown",
   "metadata": {
    "id": "qdMJCZcKrvpp"
   },
   "source": [
    "## 1.1. Read file"
   ]
  },
  {
   "cell_type": "code",
   "execution_count": null,
   "metadata": {
    "executionInfo": {
     "elapsed": 361,
     "status": "ok",
     "timestamp": 1711994126574,
     "user": {
      "displayName": "Tuấn CR7",
      "userId": "15772439786063649064"
     },
     "user_tz": -420
    },
    "id": "ixSUl5tAqB02",
    "outputId": "1e960d81-8cfb-4b5a-acca-ee40569e2e5b"
   },
   "outputs": [],
   "source": [
    "# Path of csv data file\n",
    "data=yf.download('tcs.ns',start,end,interval='1d')\n",
    "data.to_csv(f'/home/ganesh/Projects/BE_Project/stock_price_prediction/data/tcs.csv')\n",
    "data\n",
    "# Read file csv\n",
    "df = pd.read_csv(file_path)\n",
    "\n",
    "# Show\n",
    "print(df)"
   ]
  },
  {
   "cell_type": "code",
   "execution_count": null,
   "metadata": {
    "executionInfo": {
     "elapsed": 858,
     "status": "ok",
     "timestamp": 1711994127801,
     "user": {
      "displayName": "Tuấn CR7",
      "userId": "15772439786063649064"
     },
     "user_tz": -420
    },
    "id": "XUdMhugTrbpj",
    "outputId": "7607ad08-66ed-4568-cfab-1f4b77d54342"
   },
   "outputs": [],
   "source": [
    "# Information column\n",
    "df.info()\n",
    "# Size data\n",
    "df.shape"
   ]
  },
  {
   "cell_type": "code",
   "execution_count": null,
   "metadata": {
    "executionInfo": {
     "elapsed": 17,
     "status": "ok",
     "timestamp": 1711994127802,
     "user": {
      "displayName": "Tuấn CR7",
      "userId": "15772439786063649064"
     },
     "user_tz": -420
    },
    "id": "Q4knNcbB-Lxl",
    "outputId": "91bff69e-b63d-4879-cf2f-660264601232"
   },
   "outputs": [],
   "source": [
    "# Statistics such as min (minimum value), max (maximum value), mean (average value), std (standard deviation), and percentiles (25%, 50%, 75%)\n",
    "df.describe()"
   ]
  },
  {
   "cell_type": "markdown",
   "metadata": {
    "id": "zbrZUotMF733"
   },
   "source": [
    "## 1.2. Data Visualization"
   ]
  },
  {
   "cell_type": "code",
   "execution_count": null,
   "metadata": {
    "executionInfo": {
     "elapsed": 16,
     "status": "ok",
     "timestamp": 1711994127803,
     "user": {
      "displayName": "Tuấn CR7",
      "userId": "15772439786063649064"
     },
     "user_tz": -420
    },
    "id": "45hdAyCvJJwi",
    "outputId": "8819ccaf-6393-45b2-9bde-47afc875b99d"
   },
   "outputs": [],
   "source": [
    "# Moving Average Indicators\n",
    "df['MA50'] = df['Close'].rolling(50).mean()\n",
    "df['MA250'] = df['Close'].rolling(250).mean()\n",
    "df.head()"
   ]
  },
  {
   "cell_type": "code",
   "execution_count": null,
   "metadata": {
    "executionInfo": {
     "elapsed": 15,
     "status": "ok",
     "timestamp": 1711994127804,
     "user": {
      "displayName": "Tuấn CR7",
      "userId": "15772439786063649064"
     },
     "user_tz": -420
    },
    "id": "I0e20S6WNExz"
   },
   "outputs": [],
   "source": [
    "days = df['Date']"
   ]
  },
  {
   "cell_type": "code",
   "execution_count": null,
   "metadata": {
    "executionInfo": {
     "elapsed": 18895,
     "status": "ok",
     "timestamp": 1711994146684,
     "user": {
      "displayName": "Tuấn CR7",
      "userId": "15772439786063649064"
     },
     "user_tz": -420
    },
    "id": "LquqwBx7Hx1w",
    "outputId": "3beca0cb-7703-4af6-db34-90d1c5204ad2"
   },
   "outputs": [],
   "source": [
    "# Create a new image with set dimensions\n",
    "plt.figure(figsize=(16,10))\n",
    "# Draw a stock price graph\n",
    "plt.plot(days, df['Close'], label=\"Closing Price\", color=\"#3498db\")\n",
    "# Plot the 50-day moving average\n",
    "plt.plot(days, df['MA50'], label=\"50 Days SMA\", color=\"#e67e22\")\n",
    "# Plot the 50-day moving average\n",
    "plt.plot(days, df['MA250'], label=\"250 Days SMA\", color=\"#95a5a6\")\n",
    "# Set a title for the chart\n",
    "plt.title(\"Apple Stock Prices with Indicators\", fontsize=14, fontweight=\"semibold\")\n",
    "# Set x-axis limits\n",
    "plt.xlim([days.min(), days.max()])\n",
    "plt.legend()\n",
    "# Show\n",
    "plt.show()\n"
   ]
  },
  {
   "cell_type": "code",
   "execution_count": null,
   "metadata": {
    "executionInfo": {
     "elapsed": 20696,
     "status": "ok",
     "timestamp": 1711994167354,
     "user": {
      "displayName": "Tuấn CR7",
      "userId": "15772439786063649064"
     },
     "user_tz": -420
    },
    "id": "XVIxvv8tGhNC",
    "outputId": "ddf9102b-a0ce-4ccc-b223-7945a7662e77"
   },
   "outputs": [],
   "source": [
    "\n",
    "plt.figure(figsize=(15, 8))\n",
    "\n",
    "# Draw a stock price chart over time\n",
    "plt.plot(days, df['Open'], linestyle='-', color='blue', label='Open', linewidth=1)\n",
    "plt.plot(days, df['Close'], linestyle='-', color='green', label='Close', linewidth=1)\n",
    "plt.plot(days, df['High'], linestyle='-', color='red', label='High', linewidth=1)\n",
    "plt.plot(days, df['Low'], linestyle='-', color='purple', label='Low', linewidth=1)\n",
    "\n",
    "plt.title('Price History Stock P', fontweight=\"semibold\")\n",
    "plt.xlabel('Date')\n",
    "plt.ylabel('Price (USD)')\n",
    "\n",
    "plt.xlim([days.min(), days.max()])\n",
    "plt.legend()\n",
    "plt.tight_layout()\n",
    "\n",
    "plt.show()\n"
   ]
  },
  {
   "cell_type": "markdown",
   "metadata": {
    "id": "R7JFyaLJGR5v"
   },
   "source": [
    "## 1.3. Data preprocessing"
   ]
  },
  {
   "cell_type": "code",
   "execution_count": null,
   "metadata": {
    "executionInfo": {
     "elapsed": 42,
     "status": "ok",
     "timestamp": 1711994167355,
     "user": {
      "displayName": "Tuấn CR7",
      "userId": "15772439786063649064"
     },
     "user_tz": -420
    },
    "id": "NFyHLfg8_UWu",
    "outputId": "1aa807a0-deb5-48df-ad65-1cb28a8fcc5b"
   },
   "outputs": [],
   "source": [
    "target_data = df[['Close']]\n",
    "target_data.head()"
   ]
  },
  {
   "cell_type": "code",
   "execution_count": null,
   "metadata": {
    "executionInfo": {
     "elapsed": 39,
     "status": "ok",
     "timestamp": 1711994167356,
     "user": {
      "displayName": "Tuấn CR7",
      "userId": "15772439786063649064"
     },
     "user_tz": -420
    },
    "id": "GD3TrJDlfI91"
   },
   "outputs": [],
   "source": [
    "from sklearn.preprocessing import MinMaxScaler"
   ]
  },
  {
   "cell_type": "code",
   "execution_count": null,
   "metadata": {
    "executionInfo": {
     "elapsed": 39,
     "status": "ok",
     "timestamp": 1711994167356,
     "user": {
      "displayName": "Tuấn CR7",
      "userId": "15772439786063649064"
     },
     "user_tz": -420
    },
    "id": "h6UG7_eH_ZqF"
   },
   "outputs": [],
   "source": [
    "# Normalize data to the range [0, 1]\n",
    "scaler = MinMaxScaler(feature_range=(0, 1))\n",
    "target_data_sc   = scaler.fit_transform(target_data)"
   ]
  },
  {
   "cell_type": "code",
   "execution_count": null,
   "metadata": {
    "executionInfo": {
     "elapsed": 39,
     "status": "ok",
     "timestamp": 1711994167357,
     "user": {
      "displayName": "Tuấn CR7",
      "userId": "15772439786063649064"
     },
     "user_tz": -420
    },
    "id": "ZKDvWNqdi31z",
    "outputId": "62591c9b-beca-46e1-fbbb-1d5d48ea553a"
   },
   "outputs": [],
   "source": [
    "target_data_sc"
   ]
  },
  {
   "cell_type": "markdown",
   "metadata": {
    "id": "HAgqqD6GGsE7"
   },
   "source": [
    "## 1.4. Create training set and testing set"
   ]
  },
  {
   "cell_type": "code",
   "execution_count": null,
   "metadata": {
    "executionInfo": {
     "elapsed": 36,
     "status": "ok",
     "timestamp": 1711994167357,
     "user": {
      "displayName": "Tuấn CR7",
      "userId": "15772439786063649064"
     },
     "user_tz": -420
    },
    "id": "7Xz5cz8L_z8V",
    "outputId": "39bef124-5bbd-4831-cc1c-6f96224dab49"
   },
   "outputs": [],
   "source": [
    "# Create training set\n",
    "\n",
    "test_len  = 60\n",
    "train_len = target_data_sc.shape[0] - test_len\n",
    "timesteps = 60\n",
    "features  = 1\n",
    "\n",
    "X_train = []\n",
    "y_train = []\n",
    "\n",
    "for i in range(timesteps, train_len):\n",
    "  X_train.append(target_data_sc[i-timesteps:i, :])\n",
    "  y_train.append(target_data_sc[i, :])\n",
    "\n",
    "X_train = np.asarray(X_train)\n",
    "y_train = np.asarray(y_train)\n",
    "\n",
    "# Reshaping\n",
    "X_train = np.reshape(X_train, (X_train.shape[0], X_train.shape[1], 1))\n",
    "print(X_train.shape, y_train.shape)"
   ]
  },
  {
   "cell_type": "code",
   "execution_count": null,
   "metadata": {
    "executionInfo": {
     "elapsed": 35,
     "status": "ok",
     "timestamp": 1711994167358,
     "user": {
      "displayName": "Tuấn CR7",
      "userId": "15772439786063649064"
     },
     "user_tz": -420
    },
    "id": "0zc3Or-3j72x",
    "outputId": "f3bc3272-95c3-48d8-f2a4-2b7f03df77c0"
   },
   "outputs": [],
   "source": [
    "# Create testing set\n",
    "\n",
    "X_test = []\n",
    "y_test = []\n",
    "\n",
    "for i in range(train_len, target_data_sc.shape[0]):\n",
    "  X_test.append(target_data_sc[i-timesteps:i, :])\n",
    "  y_test.append(target_data_sc[i, :])\n",
    "\n",
    "X_test = np.asarray(X_test)\n",
    "y_test = np.asarray(y_test)\n",
    "\n",
    "print(X_test.shape, y_test.shape)\n",
    "\n",
    "# Reshaping\n",
    "# X_test = np.reshape(X_test, (X_test.shape[0], X_test.shape[1], 1))\n",
    "# print(X_test.shape, y_test.shape)"
   ]
  },
  {
   "cell_type": "markdown",
   "metadata": {
    "id": "O5TF_LadlFiW"
   },
   "source": [
    "## 1.5. Build model LSTM"
   ]
  },
  {
   "cell_type": "code",
   "execution_count": null,
   "metadata": {
    "executionInfo": {
     "elapsed": 32,
     "status": "ok",
     "timestamp": 1711994167358,
     "user": {
      "displayName": "Tuấn CR7",
      "userId": "15772439786063649064"
     },
     "user_tz": -420
    },
    "id": "AmMzaD7Qe_bv"
   },
   "outputs": [],
   "source": [
    "from keras.models import Sequential\n",
    "import matplotlib.dates as mdates\n",
    "from keras.layers import Dense, LSTM,Dropout\n",
    "from keras.optimizers import SGD"
   ]
  },
  {
   "cell_type": "code",
   "execution_count": null,
   "metadata": {
    "executionInfo": {
     "elapsed": 3165,
     "status": "ok",
     "timestamp": 1711995395100,
     "user": {
      "displayName": "Tuấn CR7",
      "userId": "15772439786063649064"
     },
     "user_tz": -420
    },
    "id": "PJqDkrxREjpa"
   },
   "outputs": [],
   "source": [
    "# Initialising the RNN\n",
    "model_LSTM = Sequential()\n",
    "\n",
    "# Adding the first LSTM layer and some Dropout regularisation\n",
    "model_LSTM.add(LSTM(50, return_sequences = True, input_shape = (X_train.shape[1], 1),activation='tanh'))\n",
    "model_LSTM.add(Dropout(0.2))\n",
    "model_LSTM.add(LSTM(50, return_sequences = True, activation='tanh'))\n",
    "model_LSTM.add(Dropout(0.2))\n",
    "model_LSTM.add(LSTM(50, return_sequences = True, activation='tanh'))\n",
    "model_LSTM.add(Dropout(0.2))\n",
    "model_LSTM.add(LSTM(50, activation='tanh'))\n",
    "model_LSTM.add(Dropout(0.2))\n",
    "\n",
    "model_LSTM.add(Dense(25))\n",
    "model_LSTM.add(Dropout(0.2))\n",
    "model_LSTM.add(Dense(1))\n",
    "\n",
    "\n",
    "optimizer=SGD(learning_rate=0.01, momentum=0.9)\n",
    "\n",
    "model_LSTM.compile(optimizer = 'Adam', loss = 'mean_squared_error')"
   ]
  },
  {
   "cell_type": "code",
   "execution_count": null,
   "metadata": {
    "executionInfo": {
     "elapsed": 151713,
     "status": "ok",
     "timestamp": 1711995553955,
     "user": {
      "displayName": "Tuấn CR7",
      "userId": "15772439786063649064"
     },
     "user_tz": -420
    },
    "id": "6uJfDx68RQpU",
    "outputId": "ae5946fa-f6e5-4bda-9a52-045f795ace46"
   },
   "outputs": [],
   "source": [
    "model_LSTM.fit(X_train, y_train, epochs = 10, batch_size = 32)"
   ]
  },
  {
   "cell_type": "code",
   "execution_count": null,
   "metadata": {
    "executionInfo": {
     "elapsed": 1967,
     "status": "ok",
     "timestamp": 1711995564613,
     "user": {
      "displayName": "Tuấn CR7",
      "userId": "15772439786063649064"
     },
     "user_tz": -420
    },
    "id": "RgRibKseXmHv",
    "outputId": "11ed0400-217b-4b02-b7e8-a747b508b1a9"
   },
   "outputs": [],
   "source": [
    "y_pred_LSTM = model_LSTM.predict(X_test)\n",
    "y_pred_LSTM = scaler.inverse_transform(y_pred_LSTM)\n",
    "y_test_LSTM = scaler.inverse_transform(y_test)"
   ]
  },
  {
   "cell_type": "markdown",
   "metadata": {
    "id": "PLgXcYsXok1i"
   },
   "source": [
    "## 1.6. Results of using LSTM model"
   ]
  },
  {
   "cell_type": "code",
   "execution_count": null,
   "metadata": {
    "executionInfo": {
     "elapsed": 954,
     "status": "ok",
     "timestamp": 1711995586382,
     "user": {
      "displayName": "Tuấn CR7",
      "userId": "15772439786063649064"
     },
     "user_tz": -420
    },
    "id": "74qwIy9zZOE3",
    "outputId": "5c67e7bf-00df-4dd9-acd4-1daf6b169f0e"
   },
   "outputs": [],
   "source": [
    "# Visualising the results\n",
    "plt.plot(y_test_LSTM, color = 'red', label = 'Real Tesla Stock Price')\n",
    "plt.plot(y_pred_LSTM, color = 'blue', label = 'Predicted Tesla Stock Price')\n",
    "plt.title('Tesla Stock Price Prediction use LSTM model')\n",
    "plt.xlabel('Time')\n",
    "plt.ylabel('Tesla Stock Price')\n",
    "plt.legend()\n",
    "plt.show()"
   ]
  },
  {
   "cell_type": "markdown",
   "metadata": {
    "id": "cu7u6Qh5TAnZ"
   },
   "source": [
    "## 1.7. Evaluate LSTM model"
   ]
  },
  {
   "cell_type": "code",
   "execution_count": null,
   "metadata": {
    "executionInfo": {
     "elapsed": 385,
     "status": "ok",
     "timestamp": 1711995594546,
     "user": {
      "displayName": "Tuấn CR7",
      "userId": "15772439786063649064"
     },
     "user_tz": -420
    },
    "id": "sc5SHPM0DyA-",
    "outputId": "6a21e449-e190-420b-eaa2-0b2bc68ee087"
   },
   "outputs": [],
   "source": [
    "# Calculate RMSE\n",
    "rmse = np.sqrt(np.mean(((y_pred_LSTM - y_test_LSTM) ** 2)))\n",
    "print('Root Mean Squared Error:', rmse)\n",
    "\n",
    "# Calculate MAPE\n",
    "mape = np.mean(np.abs((y_test_LSTM - y_pred_LSTM) / y_test_LSTM))\n",
    "\n",
    "print('Mean Absolute Percentage Error (MAPE):', mape)"
   ]
  },
  {
   "cell_type": "markdown",
   "metadata": {
    "id": "1OLeAwUCpL97"
   },
   "source": [
    "# 2. Use with GRU model"
   ]
  },
  {
   "cell_type": "markdown",
   "metadata": {
    "id": "SKUx16EnpqZF"
   },
   "source": [
    "LSTM model provides short term prediction while GRU model predicts the medium term"
   ]
  },
  {
   "cell_type": "markdown",
   "metadata": {
    "id": "iUt32pZrqZrf"
   },
   "source": [
    "## 2.1. Build GRU model"
   ]
  },
  {
   "cell_type": "code",
   "execution_count": null,
   "metadata": {
    "executionInfo": {
     "elapsed": 25,
     "status": "ok",
     "timestamp": 1711994394730,
     "user": {
      "displayName": "Tuấn CR7",
      "userId": "15772439786063649064"
     },
     "user_tz": -420
    },
    "id": "Z4p12EbDcSIO"
   },
   "outputs": [],
   "source": [
    "from keras.layers import GRU"
   ]
  },
  {
   "cell_type": "code",
   "execution_count": null,
   "metadata": {
    "executionInfo": {
     "elapsed": 654,
     "status": "ok",
     "timestamp": 1711994395360,
     "user": {
      "displayName": "Tuấn CR7",
      "userId": "15772439786063649064"
     },
     "user_tz": -420
    },
    "id": "5CFQqgSpavvA"
   },
   "outputs": [],
   "source": [
    "# The GRU architecture\n",
    "model_GRU = Sequential()\n",
    "# First GRU layer with Dropout regularisation\n",
    "model_GRU.add(GRU(50, return_sequences=True, input_shape=(X_train.shape[1],1), activation='tanh'))\n",
    "model_GRU.add(Dropout(0.2))\n",
    "# Second GRU layer\n",
    "model_GRU.add(GRU(50, return_sequences=True, activation='tanh'))\n",
    "model_GRU.add(Dropout(0.2))\n",
    "# Third GRU layer\n",
    "model_GRU.add(GRU(50, return_sequences=True, activation='tanh'))\n",
    "model_GRU.add(Dropout(0.2))\n",
    "# Fourth GRU layer\n",
    "model_GRU.add(GRU(50, activation='tanh'))\n",
    "model_GRU.add(Dropout(0.2))\n",
    "# The output layer\n",
    "model_GRU.add(Dense(1))\n"
   ]
  },
  {
   "cell_type": "code",
   "execution_count": null,
   "metadata": {
    "executionInfo": {
     "elapsed": 11,
     "status": "ok",
     "timestamp": 1711994395360,
     "user": {
      "displayName": "Tuấn CR7",
      "userId": "15772439786063649064"
     },
     "user_tz": -420
    },
    "id": "xAt8t6C-xNzH"
   },
   "outputs": [],
   "source": [
    "optimizer=SGD(learning_rate=0.01, momentum=0.9)"
   ]
  },
  {
   "cell_type": "code",
   "execution_count": null,
   "metadata": {
    "executionInfo": {
     "elapsed": 269187,
     "status": "ok",
     "timestamp": 1711994664538,
     "user": {
      "displayName": "Tuấn CR7",
      "userId": "15772439786063649064"
     },
     "user_tz": -420
    },
    "id": "-bqMy_wTqQIR",
    "outputId": "0662dc08-5b29-4073-f0e7-9f6ebeed78fe"
   },
   "outputs": [],
   "source": [
    "# Compiling model\n",
    "model_GRU.compile(optimizer= optimizer,loss='mean_squared_error')\n",
    "# Fitting to the training set\n",
    "model_GRU.fit(X_train,y_train,epochs=50,batch_size=150)"
   ]
  },
  {
   "cell_type": "code",
   "execution_count": null,
   "metadata": {
    "executionInfo": {
     "elapsed": 2048,
     "status": "ok",
     "timestamp": 1711994666564,
     "user": {
      "displayName": "Tuấn CR7",
      "userId": "15772439786063649064"
     },
     "user_tz": -420
    },
    "id": "aWgO91TUd3vy",
    "outputId": "b3bd3ff8-02c9-482b-ba64-733988afa28d"
   },
   "outputs": [],
   "source": [
    "y_pred_GRU = model_GRU.predict(X_test)\n",
    "y_pred_GRU = scaler.inverse_transform(y_pred_GRU)\n",
    "y_test_GRU = scaler.inverse_transform(y_test)"
   ]
  },
  {
   "cell_type": "markdown",
   "metadata": {
    "id": "t_trox_GrQ3s"
   },
   "source": [
    "## 2.2. Results of using GRU model"
   ]
  },
  {
   "cell_type": "code",
   "execution_count": null,
   "metadata": {
    "executionInfo": {
     "elapsed": 1420,
     "status": "ok",
     "timestamp": 1711994667980,
     "user": {
      "displayName": "Tuấn CR7",
      "userId": "15772439786063649064"
     },
     "user_tz": -420
    },
    "id": "VFn8s9qdd_Qq",
    "outputId": "135d6292-de24-42e7-c48c-513c58b69729"
   },
   "outputs": [],
   "source": [
    "# Visualising the results\n",
    "plt.plot(y_test_GRU, color = 'red', label = 'Real Tesla Stock Price')\n",
    "plt.plot(y_pred_GRU, color = 'blue', label = 'Predicted Tesla Stock Price')\n",
    "plt.title('Tesla Stock Price Prediction use GRU model')\n",
    "plt.xlabel('Time')\n",
    "plt.ylabel('Tesla Stock Price')\n",
    "plt.legend()\n",
    "plt.show()"
   ]
  },
  {
   "cell_type": "markdown",
   "metadata": {
    "id": "gO4FcmUlrdSq"
   },
   "source": [
    "## 2.3. Evaluate GRU model"
   ]
  },
  {
   "cell_type": "code",
   "execution_count": null,
   "metadata": {
    "executionInfo": {
     "elapsed": 10,
     "status": "ok",
     "timestamp": 1711994667981,
     "user": {
      "displayName": "Tuấn CR7",
      "userId": "15772439786063649064"
     },
     "user_tz": -420
    },
    "id": "WsuhhW3SeHcS",
    "outputId": "c047db7b-f9b5-462b-fbee-a396bf050d61"
   },
   "outputs": [],
   "source": [
    "# Calculate RMSE\n",
    "rmse = np.sqrt(np.mean(((y_pred_GRU - y_test_GRU) ** 2)))\n",
    "print('Root Mean Squared Error:', rmse)\n",
    "\n",
    "# Calculate MAPE\n",
    "mape = np.mean(np.abs((y_test_GRU - y_pred_GRU) / y_test_GRU))\n",
    "\n",
    "print('Mean Absolute Percentage Error (MAPE):', mape)"
   ]
  }
 ],
 "metadata": {
  "colab": {
   "authorship_tag": "ABX9TyMTZ0sb2c0vRX6lQ71GwsD0",
   "provenance": []
  },
  "kaggle": {
   "accelerator": "none",
   "dataSources": [
    {
     "datasetId": 1436765,
     "sourceId": 3358622,
     "sourceType": "datasetVersion"
    }
   ],
   "dockerImageVersionId": 30673,
   "isGpuEnabled": false,
   "isInternetEnabled": true,
   "language": "python",
   "sourceType": "notebook"
  },
  "kernelspec": {
   "display_name": "Python 3 (ipykernel)",
   "language": "python",
   "name": "python3"
  },
  "language_info": {
   "codemirror_mode": {
    "name": "ipython",
    "version": 3
   },
   "file_extension": ".py",
   "mimetype": "text/x-python",
   "name": "python",
   "nbconvert_exporter": "python",
   "pygments_lexer": "ipython3",
   "version": "3.11.5"
  }
 },
 "nbformat": 4,
 "nbformat_minor": 4
}
