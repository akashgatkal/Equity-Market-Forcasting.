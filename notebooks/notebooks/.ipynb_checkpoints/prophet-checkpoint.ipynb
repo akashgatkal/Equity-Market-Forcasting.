{
 "cells": [
  {
   "cell_type": "code",
   "execution_count": 1,
   "metadata": {
    "_cell_guid": "b1076dfc-b9ad-4769-8c92-a6c4dae69d19",
    "_uuid": "8f2839f25d086af736a60e9eeb907d3b93b6e0e5",
    "execution": {
     "iopub.execute_input": "2024-02-27T06:13:06.595036Z",
     "iopub.status.busy": "2024-02-27T06:13:06.59465Z",
     "iopub.status.idle": "2024-02-27T06:13:07.175316Z",
     "shell.execute_reply": "2024-02-27T06:13:07.174309Z",
     "shell.execute_reply.started": "2024-02-27T06:13:06.595007Z"
    }
   },
   "outputs": [
    {
     "name": "stderr",
     "output_type": "stream",
     "text": [
      "/home/ganesh/anaconda3/envs/stock/lib/python3.10/site-packages/tqdm/auto.py:21: TqdmWarning: IProgress not found. Please update jupyter and ipywidgets. See https://ipywidgets.readthedocs.io/en/stable/user_install.html\n",
      "  from .autonotebook import tqdm as notebook_tqdm\n",
      "Importing plotly failed. Interactive plots will not work.\n"
     ]
    }
   ],
   "source": [
    "\n",
    "import numpy as np\n",
    "import pandas as pd \n",
    "import matplotlib.pyplot as plt\n",
    "import seaborn as sns\n",
    "from prophet import Prophet"
   ]
  },
  {
   "cell_type": "code",
   "execution_count": 2,
   "metadata": {
    "execution": {
     "iopub.execute_input": "2024-02-27T05:24:08.947179Z",
     "iopub.status.busy": "2024-02-27T05:24:08.946311Z",
     "iopub.status.idle": "2024-02-27T05:24:08.983155Z",
     "shell.execute_reply": "2024-02-27T05:24:08.982184Z",
     "shell.execute_reply.started": "2024-02-27T05:24:08.947148Z"
    }
   },
   "outputs": [
    {
     "data": {
      "text/html": [
       "<div>\n",
       "<style scoped>\n",
       "    .dataframe tbody tr th:only-of-type {\n",
       "        vertical-align: middle;\n",
       "    }\n",
       "\n",
       "    .dataframe tbody tr th {\n",
       "        vertical-align: top;\n",
       "    }\n",
       "\n",
       "    .dataframe thead th {\n",
       "        text-align: right;\n",
       "    }\n",
       "</style>\n",
       "<table border=\"1\" class=\"dataframe\">\n",
       "  <thead>\n",
       "    <tr style=\"text-align: right;\">\n",
       "      <th></th>\n",
       "      <th>Date</th>\n",
       "      <th>Open</th>\n",
       "      <th>High</th>\n",
       "      <th>Low</th>\n",
       "      <th>Close</th>\n",
       "      <th>Adj Close</th>\n",
       "      <th>Volume</th>\n",
       "    </tr>\n",
       "  </thead>\n",
       "  <tbody>\n",
       "    <tr>\n",
       "      <th>0</th>\n",
       "      <td>2002-08-12</td>\n",
       "      <td>38.724998</td>\n",
       "      <td>40.000000</td>\n",
       "      <td>38.724998</td>\n",
       "      <td>39.700001</td>\n",
       "      <td>28.121292</td>\n",
       "      <td>212976</td>\n",
       "    </tr>\n",
       "    <tr>\n",
       "      <th>1</th>\n",
       "      <td>2002-08-13</td>\n",
       "      <td>39.750000</td>\n",
       "      <td>40.387501</td>\n",
       "      <td>38.875000</td>\n",
       "      <td>39.162498</td>\n",
       "      <td>27.740557</td>\n",
       "      <td>153576</td>\n",
       "    </tr>\n",
       "    <tr>\n",
       "      <th>2</th>\n",
       "      <td>2002-08-14</td>\n",
       "      <td>39.250000</td>\n",
       "      <td>39.250000</td>\n",
       "      <td>35.724998</td>\n",
       "      <td>36.462502</td>\n",
       "      <td>25.828011</td>\n",
       "      <td>822776</td>\n",
       "    </tr>\n",
       "    <tr>\n",
       "      <th>3</th>\n",
       "      <td>2002-08-15</td>\n",
       "      <td>36.462502</td>\n",
       "      <td>36.462502</td>\n",
       "      <td>36.462502</td>\n",
       "      <td>36.462502</td>\n",
       "      <td>25.828011</td>\n",
       "      <td>0</td>\n",
       "    </tr>\n",
       "    <tr>\n",
       "      <th>4</th>\n",
       "      <td>2002-08-16</td>\n",
       "      <td>36.275002</td>\n",
       "      <td>38.000000</td>\n",
       "      <td>35.750000</td>\n",
       "      <td>36.375000</td>\n",
       "      <td>25.766033</td>\n",
       "      <td>811856</td>\n",
       "    </tr>\n",
       "    <tr>\n",
       "      <th>...</th>\n",
       "      <td>...</td>\n",
       "      <td>...</td>\n",
       "      <td>...</td>\n",
       "      <td>...</td>\n",
       "      <td>...</td>\n",
       "      <td>...</td>\n",
       "      <td>...</td>\n",
       "    </tr>\n",
       "    <tr>\n",
       "      <th>5378</th>\n",
       "      <td>2024-04-10</td>\n",
       "      <td>3956.399902</td>\n",
       "      <td>3990.199951</td>\n",
       "      <td>3918.000000</td>\n",
       "      <td>3984.649902</td>\n",
       "      <td>3984.649902</td>\n",
       "      <td>2101965</td>\n",
       "    </tr>\n",
       "    <tr>\n",
       "      <th>5379</th>\n",
       "      <td>2024-04-12</td>\n",
       "      <td>3971.000000</td>\n",
       "      <td>4013.350098</td>\n",
       "      <td>3945.500000</td>\n",
       "      <td>4001.399902</td>\n",
       "      <td>4001.399902</td>\n",
       "      <td>4354821</td>\n",
       "    </tr>\n",
       "    <tr>\n",
       "      <th>5380</th>\n",
       "      <td>2024-04-15</td>\n",
       "      <td>4001.399902</td>\n",
       "      <td>4064.199951</td>\n",
       "      <td>3919.050049</td>\n",
       "      <td>3941.199951</td>\n",
       "      <td>3941.199951</td>\n",
       "      <td>4200329</td>\n",
       "    </tr>\n",
       "    <tr>\n",
       "      <th>5381</th>\n",
       "      <td>2024-04-16</td>\n",
       "      <td>3902.000000</td>\n",
       "      <td>3928.699951</td>\n",
       "      <td>3862.850098</td>\n",
       "      <td>3872.800049</td>\n",
       "      <td>3872.800049</td>\n",
       "      <td>3051420</td>\n",
       "    </tr>\n",
       "    <tr>\n",
       "      <th>5382</th>\n",
       "      <td>2024-04-18</td>\n",
       "      <td>3876.800049</td>\n",
       "      <td>3936.000000</td>\n",
       "      <td>3850.000000</td>\n",
       "      <td>3862.000000</td>\n",
       "      <td>3862.000000</td>\n",
       "      <td>3476284</td>\n",
       "    </tr>\n",
       "  </tbody>\n",
       "</table>\n",
       "<p>5383 rows × 7 columns</p>\n",
       "</div>"
      ],
      "text/plain": [
       "            Date         Open         High          Low        Close  \\\n",
       "0     2002-08-12    38.724998    40.000000    38.724998    39.700001   \n",
       "1     2002-08-13    39.750000    40.387501    38.875000    39.162498   \n",
       "2     2002-08-14    39.250000    39.250000    35.724998    36.462502   \n",
       "3     2002-08-15    36.462502    36.462502    36.462502    36.462502   \n",
       "4     2002-08-16    36.275002    38.000000    35.750000    36.375000   \n",
       "...          ...          ...          ...          ...          ...   \n",
       "5378  2024-04-10  3956.399902  3990.199951  3918.000000  3984.649902   \n",
       "5379  2024-04-12  3971.000000  4013.350098  3945.500000  4001.399902   \n",
       "5380  2024-04-15  4001.399902  4064.199951  3919.050049  3941.199951   \n",
       "5381  2024-04-16  3902.000000  3928.699951  3862.850098  3872.800049   \n",
       "5382  2024-04-18  3876.800049  3936.000000  3850.000000  3862.000000   \n",
       "\n",
       "        Adj Close   Volume  \n",
       "0       28.121292   212976  \n",
       "1       27.740557   153576  \n",
       "2       25.828011   822776  \n",
       "3       25.828011        0  \n",
       "4       25.766033   811856  \n",
       "...           ...      ...  \n",
       "5378  3984.649902  2101965  \n",
       "5379  4001.399902  4354821  \n",
       "5380  3941.199951  4200329  \n",
       "5381  3872.800049  3051420  \n",
       "5382  3862.000000  3476284  \n",
       "\n",
       "[5383 rows x 7 columns]"
      ]
     },
     "execution_count": 2,
     "metadata": {},
     "output_type": "execute_result"
    }
   ],
   "source": [
    "df = pd.read_csv('/home/ganesh/Projects/BE_Project/stock_price_prediction/data/tcs.csv')\n",
    "df"
   ]
  },
  {
   "cell_type": "markdown",
   "metadata": {},
   "source": [
    "# **About Dataset:**"
   ]
  },
  {
   "cell_type": "markdown",
   "metadata": {},
   "source": [
    "This dataset presents historical stock price information for Zomato, a leading online food delivery and restaurant aggregator company. The dataset is compiled with data collected over a specific time period, showcasing the fluctuation in Zomato's stock prices over days, weeks, or months, depending on the granularity of the dataset.  \n",
    "\n",
    "Key Features:  \n",
    "\n",
    "* Date: The date of the recorded stock price.\n",
    "* Open Price: The opening price of Zomato's stock on the given date.\n",
    "* Close Price: The closing price of Zomato's stock on the given date.\n",
    "* High Price: The highest price of Zomato's stock reached during the trading day.\n",
    "* Low Price: The lowest price of Zomato's stock reached during the trading day.\n",
    "* Volume: The total volume of Zomato's stock traded on the given date."
   ]
  },
  {
   "cell_type": "markdown",
   "metadata": {},
   "source": [
    "# **EDA**"
   ]
  },
  {
   "cell_type": "code",
   "execution_count": null,
   "metadata": {
    "execution": {
     "iopub.execute_input": "2024-02-27T05:24:37.194436Z",
     "iopub.status.busy": "2024-02-27T05:24:37.194046Z",
     "iopub.status.idle": "2024-02-27T05:24:37.224567Z",
     "shell.execute_reply": "2024-02-27T05:24:37.223626Z",
     "shell.execute_reply.started": "2024-02-27T05:24:37.194406Z"
    }
   },
   "outputs": [],
   "source": [
    "df.describe()"
   ]
  },
  {
   "cell_type": "markdown",
   "metadata": {},
   "source": [
    "**The above chart gives us a descriptive analytics of stock prizes.**  \n"
   ]
  },
  {
   "cell_type": "code",
   "execution_count": null,
   "metadata": {
    "execution": {
     "iopub.execute_input": "2024-02-27T05:26:16.90342Z",
     "iopub.status.busy": "2024-02-27T05:26:16.902995Z",
     "iopub.status.idle": "2024-02-27T05:26:16.926876Z",
     "shell.execute_reply": "2024-02-27T05:26:16.92573Z",
     "shell.execute_reply.started": "2024-02-27T05:26:16.903387Z"
    }
   },
   "outputs": [],
   "source": [
    "df.info()"
   ]
  },
  {
   "cell_type": "markdown",
   "metadata": {},
   "source": [
    "**As we can see the date column is object type so converting it into datetime format in next cell.**"
   ]
  },
  {
   "cell_type": "code",
   "execution_count": null,
   "metadata": {
    "execution": {
     "iopub.execute_input": "2024-02-27T05:27:56.472122Z",
     "iopub.status.busy": "2024-02-27T05:27:56.471803Z",
     "iopub.status.idle": "2024-02-27T05:27:56.487795Z",
     "shell.execute_reply": "2024-02-27T05:27:56.486964Z",
     "shell.execute_reply.started": "2024-02-27T05:27:56.472096Z"
    }
   },
   "outputs": [],
   "source": [
    "df['Date'] = pd.to_datetime(df['Date'])\n",
    "df.info()"
   ]
  },
  {
   "cell_type": "markdown",
   "metadata": {},
   "source": [
    "**Successfully converted.**"
   ]
  },
  {
   "cell_type": "markdown",
   "metadata": {},
   "source": [
    "### **Checking for the missing value in the dataset**"
   ]
  },
  {
   "cell_type": "code",
   "execution_count": null,
   "metadata": {
    "execution": {
     "iopub.execute_input": "2024-02-27T05:37:42.570284Z",
     "iopub.status.busy": "2024-02-27T05:37:42.569175Z",
     "iopub.status.idle": "2024-02-27T05:37:42.577663Z",
     "shell.execute_reply": "2024-02-27T05:37:42.576862Z",
     "shell.execute_reply.started": "2024-02-27T05:37:42.570224Z"
    }
   },
   "outputs": [],
   "source": [
    "df.isna().sum()"
   ]
  },
  {
   "cell_type": "markdown",
   "metadata": {},
   "source": [
    "**There are no missing values, which is a good news.**"
   ]
  },
  {
   "cell_type": "markdown",
   "metadata": {},
   "source": [
    "### **Checking the distribution of each column**"
   ]
  },
  {
   "cell_type": "code",
   "execution_count": null,
   "metadata": {
    "execution": {
     "iopub.execute_input": "2024-02-27T05:56:12.406774Z",
     "iopub.status.busy": "2024-02-27T05:56:12.406334Z",
     "iopub.status.idle": "2024-02-27T05:56:14.183246Z",
     "shell.execute_reply": "2024-02-27T05:56:14.182085Z",
     "shell.execute_reply.started": "2024-02-27T05:56:12.406743Z"
    }
   },
   "outputs": [],
   "source": [
    "num_cols = df.select_dtypes(include=['int', 'float']).columns\n",
    "for col in num_cols:\n",
    "    if df[col].dtype == 'int' or df[col].dtype == 'float':\n",
    "        sns.histplot(data=df, x=df[col], kde=True, bins=10)\n",
    "        plt.ylabel('count')\n",
    "        plt.title(f'Distribution of {col}')\n",
    "        plt.show()"
   ]
  },
  {
   "cell_type": "markdown",
   "metadata": {},
   "source": [
    "### **Checking the Boxplot to find if there are any outliers or not**"
   ]
  },
  {
   "cell_type": "code",
   "execution_count": null,
   "metadata": {
    "execution": {
     "iopub.execute_input": "2024-02-27T05:57:48.792938Z",
     "iopub.status.busy": "2024-02-27T05:57:48.792537Z",
     "iopub.status.idle": "2024-02-27T05:57:49.718503Z",
     "shell.execute_reply": "2024-02-27T05:57:49.717495Z",
     "shell.execute_reply.started": "2024-02-27T05:57:48.792896Z"
    }
   },
   "outputs": [],
   "source": [
    "for col in num_cols:\n",
    "    sns.boxplot(data=df, y=df[col])\n",
    "    plt.title(f'Boxplot of {col}')\n",
    "    plt.show()"
   ]
  },
  {
   "cell_type": "markdown",
   "metadata": {},
   "source": [
    "**Only Volume column contains outliers, but we are not removing the outliers because it requires a domain expert to decide that.**"
   ]
  },
  {
   "cell_type": "markdown",
   "metadata": {},
   "source": [
    "# **Visualization of Prices & Volume over Time**"
   ]
  },
  {
   "cell_type": "code",
   "execution_count": null,
   "metadata": {
    "execution": {
     "iopub.execute_input": "2024-02-27T06:06:32.945004Z",
     "iopub.status.busy": "2024-02-27T06:06:32.944557Z",
     "iopub.status.idle": "2024-02-27T06:06:33.395049Z",
     "shell.execute_reply": "2024-02-27T06:06:33.393917Z",
     "shell.execute_reply.started": "2024-02-27T06:06:32.944971Z"
    }
   },
   "outputs": [],
   "source": [
    "plt.figure(figsize=(15,9))\n",
    "sns.lineplot(data=df, x='Date', y='High', label='High')\n",
    "sns.lineplot(data=df, x='Date', y='Low', label='Low')\n",
    "plt.legend()\n",
    "plt.title('LinePlot of High & Low Prices')\n",
    "plt.ylabel('Prices')\n",
    "plt.xlabel('Year')\n",
    "plt.show()"
   ]
  },
  {
   "cell_type": "code",
   "execution_count": null,
   "metadata": {
    "execution": {
     "iopub.execute_input": "2024-02-27T06:06:27.499525Z",
     "iopub.status.busy": "2024-02-27T06:06:27.499128Z",
     "iopub.status.idle": "2024-02-27T06:06:27.948923Z",
     "shell.execute_reply": "2024-02-27T06:06:27.947771Z",
     "shell.execute_reply.started": "2024-02-27T06:06:27.499497Z"
    }
   },
   "outputs": [],
   "source": [
    "plt.figure(figsize=(15,9))\n",
    "sns.lineplot(data=df, x='Date', y='Open', label='Open')\n",
    "sns.lineplot(data=df, x='Date', y='Close', label='Close')\n",
    "plt.legend()\n",
    "plt.title('LinePlot of Open & Close Prices')\n",
    "plt.ylabel('Prices')\n",
    "plt.xlabel('Year')\n",
    "plt.show()"
   ]
  },
  {
   "cell_type": "code",
   "execution_count": null,
   "metadata": {
    "execution": {
     "iopub.execute_input": "2024-02-27T06:08:35.072121Z",
     "iopub.status.busy": "2024-02-27T06:08:35.071366Z",
     "iopub.status.idle": "2024-02-27T06:08:35.517881Z",
     "shell.execute_reply": "2024-02-27T06:08:35.516809Z",
     "shell.execute_reply.started": "2024-02-27T06:08:35.072083Z"
    }
   },
   "outputs": [],
   "source": [
    "plt.figure(figsize=(15,10))\n",
    "sns.lineplot(data=df, x='Date', y='Volume')\n",
    "plt.title('Stock Volume on the relevant Year')\n",
    "plt.xlabel('Year')\n",
    "plt.ylabel('Volume')\n",
    "plt.show()"
   ]
  },
  {
   "cell_type": "markdown",
   "metadata": {},
   "source": [
    "# **Time Series Analysis on Opening Stock Price using FB-Prophet**"
   ]
  },
  {
   "cell_type": "code",
   "execution_count": null,
   "metadata": {
    "execution": {
     "iopub.execute_input": "2024-02-27T06:11:06.159351Z",
     "iopub.status.busy": "2024-02-27T06:11:06.158604Z",
     "iopub.status.idle": "2024-02-27T06:11:06.171394Z",
     "shell.execute_reply": "2024-02-27T06:11:06.170338Z",
     "shell.execute_reply.started": "2024-02-27T06:11:06.159315Z"
    }
   },
   "outputs": [],
   "source": [
    "df_open = df[['Date','Open']]\n",
    "df_open"
   ]
  },
  {
   "cell_type": "markdown",
   "metadata": {},
   "source": [
    "Renaming the Date columns to ds & Open column to y"
   ]
  },
  {
   "cell_type": "code",
   "execution_count": null,
   "metadata": {
    "execution": {
     "iopub.execute_input": "2024-02-27T06:11:39.6138Z",
     "iopub.status.busy": "2024-02-27T06:11:39.613427Z",
     "iopub.status.idle": "2024-02-27T06:11:39.626632Z",
     "shell.execute_reply": "2024-02-27T06:11:39.625538Z",
     "shell.execute_reply.started": "2024-02-27T06:11:39.613774Z"
    }
   },
   "outputs": [],
   "source": [
    "df_open.rename(columns={'Date':'ds','Open':'y'},inplace=True)\n",
    "df_open"
   ]
  },
  {
   "cell_type": "code",
   "execution_count": null,
   "metadata": {
    "execution": {
     "iopub.execute_input": "2024-02-27T06:13:39.365549Z",
     "iopub.status.busy": "2024-02-27T06:13:39.365157Z",
     "iopub.status.idle": "2024-02-27T06:13:39.771672Z",
     "shell.execute_reply": "2024-02-27T06:13:39.770591Z",
     "shell.execute_reply.started": "2024-02-27T06:13:39.365521Z"
    }
   },
   "outputs": [],
   "source": [
    "model_open = Prophet()\n",
    "model_open.fit(df_open)"
   ]
  },
  {
   "cell_type": "code",
   "execution_count": null,
   "metadata": {
    "execution": {
     "iopub.execute_input": "2024-02-27T06:13:48.049505Z",
     "iopub.status.busy": "2024-02-27T06:13:48.048775Z",
     "iopub.status.idle": "2024-02-27T06:13:48.063938Z",
     "shell.execute_reply": "2024-02-27T06:13:48.062747Z",
     "shell.execute_reply.started": "2024-02-27T06:13:48.04947Z"
    }
   },
   "outputs": [],
   "source": [
    "future_open = model_open.make_future_dataframe(periods=365)\n",
    "future_open.tail()"
   ]
  },
  {
   "cell_type": "code",
   "execution_count": null,
   "metadata": {
    "execution": {
     "iopub.execute_input": "2024-02-27T06:14:06.660032Z",
     "iopub.status.busy": "2024-02-27T06:14:06.65963Z",
     "iopub.status.idle": "2024-02-27T06:14:07.883071Z",
     "shell.execute_reply": "2024-02-27T06:14:07.882011Z",
     "shell.execute_reply.started": "2024-02-27T06:14:06.660002Z"
    }
   },
   "outputs": [],
   "source": [
    "forecast_open = model_open.predict(future_open)\n",
    "forecast_open[['ds', 'yhat', 'yhat_lower', 'yhat_upper']].tail()"
   ]
  },
  {
   "cell_type": "code",
   "execution_count": null,
   "metadata": {
    "execution": {
     "iopub.execute_input": "2024-02-27T06:14:25.176245Z",
     "iopub.status.busy": "2024-02-27T06:14:25.175545Z",
     "iopub.status.idle": "2024-02-27T06:14:25.579081Z",
     "shell.execute_reply": "2024-02-27T06:14:25.578101Z",
     "shell.execute_reply.started": "2024-02-27T06:14:25.176211Z"
    }
   },
   "outputs": [],
   "source": [
    "from prophet.plot import plot_plotly, plot_components_plotly\n",
    "\n",
    "plot_plotly(model_open, forecast_open)"
   ]
  },
  {
   "cell_type": "code",
   "execution_count": null,
   "metadata": {
    "execution": {
     "iopub.execute_input": "2024-02-27T06:15:45.893065Z",
     "iopub.status.busy": "2024-02-27T06:15:45.892673Z",
     "iopub.status.idle": "2024-02-27T06:15:46.519401Z",
     "shell.execute_reply": "2024-02-27T06:15:46.518367Z",
     "shell.execute_reply.started": "2024-02-27T06:15:45.893039Z"
    }
   },
   "outputs": [],
   "source": [
    "plot_components_plotly(model_open, forecast_open)"
   ]
  },
  {
   "cell_type": "markdown",
   "metadata": {},
   "source": [
    "# **Time Series Analysis on Closing Stock Price using FB-Prophet**"
   ]
  },
  {
   "cell_type": "code",
   "execution_count": null,
   "metadata": {
    "execution": {
     "iopub.execute_input": "2024-02-27T06:16:50.996797Z",
     "iopub.status.busy": "2024-02-27T06:16:50.996415Z",
     "iopub.status.idle": "2024-02-27T06:16:51.009296Z",
     "shell.execute_reply": "2024-02-27T06:16:51.0081Z",
     "shell.execute_reply.started": "2024-02-27T06:16:50.99677Z"
    }
   },
   "outputs": [],
   "source": [
    "df_close = df[['Date','Close']]\n",
    "df_close"
   ]
  },
  {
   "cell_type": "code",
   "execution_count": null,
   "metadata": {
    "execution": {
     "iopub.execute_input": "2024-02-27T06:17:01.332381Z",
     "iopub.status.busy": "2024-02-27T06:17:01.331731Z",
     "iopub.status.idle": "2024-02-27T06:17:01.345508Z",
     "shell.execute_reply": "2024-02-27T06:17:01.344443Z",
     "shell.execute_reply.started": "2024-02-27T06:17:01.332351Z"
    }
   },
   "outputs": [],
   "source": [
    "df_close.rename(columns={'Date':'ds','Close':'y'},inplace=True)\n",
    "df_close"
   ]
  },
  {
   "cell_type": "code",
   "execution_count": null,
   "metadata": {
    "execution": {
     "iopub.execute_input": "2024-02-27T06:17:12.006209Z",
     "iopub.status.busy": "2024-02-27T06:17:12.005452Z",
     "iopub.status.idle": "2024-02-27T06:17:12.247773Z",
     "shell.execute_reply": "2024-02-27T06:17:12.246649Z",
     "shell.execute_reply.started": "2024-02-27T06:17:12.006173Z"
    }
   },
   "outputs": [],
   "source": [
    "model_close = Prophet()\n",
    "model_close.fit(df_close)"
   ]
  },
  {
   "cell_type": "code",
   "execution_count": null,
   "metadata": {
    "execution": {
     "iopub.execute_input": "2024-02-27T06:17:19.298701Z",
     "iopub.status.busy": "2024-02-27T06:17:19.298171Z",
     "iopub.status.idle": "2024-02-27T06:17:19.310651Z",
     "shell.execute_reply": "2024-02-27T06:17:19.309508Z",
     "shell.execute_reply.started": "2024-02-27T06:17:19.298664Z"
    }
   },
   "outputs": [],
   "source": [
    "future_close = model_close.make_future_dataframe(periods=365)\n",
    "future_close.tail()"
   ]
  },
  {
   "cell_type": "code",
   "execution_count": null,
   "metadata": {
    "execution": {
     "iopub.execute_input": "2024-02-27T06:17:26.851631Z",
     "iopub.status.busy": "2024-02-27T06:17:26.850658Z",
     "iopub.status.idle": "2024-02-27T06:17:27.392084Z",
     "shell.execute_reply": "2024-02-27T06:17:27.390979Z",
     "shell.execute_reply.started": "2024-02-27T06:17:26.851592Z"
    }
   },
   "outputs": [],
   "source": [
    "forecast_close = model_close.predict(future_close)\n",
    "forecast_close[['ds', 'yhat', 'yhat_lower', 'yhat_upper']].tail()"
   ]
  },
  {
   "cell_type": "code",
   "execution_count": null,
   "metadata": {
    "execution": {
     "iopub.execute_input": "2024-02-27T06:17:34.936199Z",
     "iopub.status.busy": "2024-02-27T06:17:34.93507Z",
     "iopub.status.idle": "2024-02-27T06:17:34.999407Z",
     "shell.execute_reply": "2024-02-27T06:17:34.998224Z",
     "shell.execute_reply.started": "2024-02-27T06:17:34.936164Z"
    }
   },
   "outputs": [],
   "source": [
    "from prophet.plot import plot_plotly, plot_components_plotly\n",
    "\n",
    "plot_plotly(model_close, forecast_close)"
   ]
  },
  {
   "cell_type": "code",
   "execution_count": null,
   "metadata": {
    "execution": {
     "iopub.execute_input": "2024-02-27T06:17:50.2061Z",
     "iopub.status.busy": "2024-02-27T06:17:50.205682Z",
     "iopub.status.idle": "2024-02-27T06:17:50.483887Z",
     "shell.execute_reply": "2024-02-27T06:17:50.482797Z",
     "shell.execute_reply.started": "2024-02-27T06:17:50.206072Z"
    }
   },
   "outputs": [],
   "source": [
    "plot_components_plotly(model_close, forecast_close)"
   ]
  },
  {
   "cell_type": "markdown",
   "metadata": {},
   "source": [
    "# **Time Series Analysis on Stock Volume using FB-Prophet¶**"
   ]
  },
  {
   "cell_type": "code",
   "execution_count": null,
   "metadata": {
    "execution": {
     "iopub.execute_input": "2024-02-27T06:18:33.806078Z",
     "iopub.status.busy": "2024-02-27T06:18:33.805344Z",
     "iopub.status.idle": "2024-02-27T06:18:33.81871Z",
     "shell.execute_reply": "2024-02-27T06:18:33.81779Z",
     "shell.execute_reply.started": "2024-02-27T06:18:33.806046Z"
    }
   },
   "outputs": [],
   "source": [
    "df_volume = df[['Date','Volume']]\n",
    "df_volume"
   ]
  },
  {
   "cell_type": "code",
   "execution_count": null,
   "metadata": {
    "execution": {
     "iopub.execute_input": "2024-02-27T06:18:42.737905Z",
     "iopub.status.busy": "2024-02-27T06:18:42.737532Z",
     "iopub.status.idle": "2024-02-27T06:18:42.749424Z",
     "shell.execute_reply": "2024-02-27T06:18:42.7487Z",
     "shell.execute_reply.started": "2024-02-27T06:18:42.73788Z"
    }
   },
   "outputs": [],
   "source": [
    "df_volume.rename(columns={'Date':'ds','Volume':'y'},inplace=True)\n",
    "df_volume"
   ]
  },
  {
   "cell_type": "code",
   "execution_count": null,
   "metadata": {
    "execution": {
     "iopub.execute_input": "2024-02-27T06:18:50.609496Z",
     "iopub.status.busy": "2024-02-27T06:18:50.609103Z",
     "iopub.status.idle": "2024-02-27T06:18:50.804673Z",
     "shell.execute_reply": "2024-02-27T06:18:50.803738Z",
     "shell.execute_reply.started": "2024-02-27T06:18:50.609469Z"
    }
   },
   "outputs": [],
   "source": [
    "model_volume = Prophet()\n",
    "model_volume.fit(df_volume)"
   ]
  },
  {
   "cell_type": "code",
   "execution_count": null,
   "metadata": {
    "execution": {
     "iopub.execute_input": "2024-02-27T06:18:57.633965Z",
     "iopub.status.busy": "2024-02-27T06:18:57.63359Z",
     "iopub.status.idle": "2024-02-27T06:18:57.64456Z",
     "shell.execute_reply": "2024-02-27T06:18:57.643434Z",
     "shell.execute_reply.started": "2024-02-27T06:18:57.633938Z"
    }
   },
   "outputs": [],
   "source": [
    "future_volume = model_volume.make_future_dataframe(periods=365)\n",
    "future_volume.tail()"
   ]
  },
  {
   "cell_type": "code",
   "execution_count": null,
   "metadata": {
    "execution": {
     "iopub.execute_input": "2024-02-27T06:19:05.764447Z",
     "iopub.status.busy": "2024-02-27T06:19:05.764035Z",
     "iopub.status.idle": "2024-02-27T06:19:06.285068Z",
     "shell.execute_reply": "2024-02-27T06:19:06.283979Z",
     "shell.execute_reply.started": "2024-02-27T06:19:05.764419Z"
    }
   },
   "outputs": [],
   "source": [
    "forecast_volume = model_volume.predict(future_volume)\n",
    "forecast_volume[['ds', 'yhat', 'yhat_lower', 'yhat_upper']].tail()"
   ]
  },
  {
   "cell_type": "code",
   "execution_count": null,
   "metadata": {
    "execution": {
     "iopub.execute_input": "2024-02-27T06:19:19.048679Z",
     "iopub.status.busy": "2024-02-27T06:19:19.048246Z",
     "iopub.status.idle": "2024-02-27T06:19:19.113399Z",
     "shell.execute_reply": "2024-02-27T06:19:19.112323Z",
     "shell.execute_reply.started": "2024-02-27T06:19:19.048649Z"
    }
   },
   "outputs": [],
   "source": [
    "from prophet.plot import plot_plotly, plot_components_plotly\n",
    "\n",
    "plot_plotly(model_volume, forecast_volume)\n"
   ]
  },
  {
   "cell_type": "code",
   "execution_count": null,
   "metadata": {
    "execution": {
     "iopub.execute_input": "2024-02-27T06:19:30.055189Z",
     "iopub.status.busy": "2024-02-27T06:19:30.054457Z",
     "iopub.status.idle": "2024-02-27T06:19:30.397802Z",
     "shell.execute_reply": "2024-02-27T06:19:30.396646Z",
     "shell.execute_reply.started": "2024-02-27T06:19:30.055145Z"
    }
   },
   "outputs": [],
   "source": [
    "plot_components_plotly(model_volume, forecast_volume)"
   ]
  },
  {
   "cell_type": "markdown",
   "metadata": {},
   "source": [
    "# **Thank You**"
   ]
  },
  {
   "cell_type": "code",
   "execution_count": null,
   "metadata": {},
   "outputs": [],
   "source": []
  }
 ],
 "metadata": {
  "kaggle": {
   "accelerator": "none",
   "dataSources": [
    {
     "datasetId": 4499613,
     "sourceId": 7706878,
     "sourceType": "datasetVersion"
    }
   ],
   "dockerImageVersionId": 30646,
   "isGpuEnabled": false,
   "isInternetEnabled": true,
   "language": "python",
   "sourceType": "notebook"
  },
  "kernelspec": {
   "display_name": "stock",
   "language": "python",
   "name": "stock"
  },
  "language_info": {
   "codemirror_mode": {
    "name": "ipython",
    "version": 3
   },
   "file_extension": ".py",
   "mimetype": "text/x-python",
   "name": "python",
   "nbconvert_exporter": "python",
   "pygments_lexer": "ipython3",
   "version": "3.10.14"
  }
 },
 "nbformat": 4,
 "nbformat_minor": 4
}
